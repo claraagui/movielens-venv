{
 "cells": [
  {
   "cell_type": "code",
   "execution_count": 2,
   "id": "a8e5a269-5acd-4d0b-9117-0879fafd7d2b",
   "metadata": {},
   "outputs": [],
   "source": [
    "import pandas as pd\n",
    "import numpy as np"
   ]
  },
  {
   "cell_type": "code",
   "execution_count": 4,
   "id": "97653ac0-fde9-4ba8-857e-bfe12969ef1b",
   "metadata": {},
   "outputs": [],
   "source": [
    "ratings = pd.read_csv('data/ratings.csv')\n",
    "movies = pd.read_csv('data/movies.csv')"
   ]
  },
  {
   "cell_type": "code",
   "execution_count": 5,
   "id": "a8fe50dd-3f51-403d-9bf5-ef26a2df0a6c",
   "metadata": {},
   "outputs": [
    {
     "name": "stdout",
     "output_type": "stream",
     "text": [
      "   userId  movieId  rating  timestamp\n",
      "0       1        1     4.0  964982703\n",
      "1       1        3     4.0  964981247\n",
      "2       1        6     4.0  964982224\n",
      "3       1       47     5.0  964983815\n",
      "4       1       50     5.0  964982931\n",
      "   movieId                               title  \\\n",
      "0        1                    Toy Story (1995)   \n",
      "1        2                      Jumanji (1995)   \n",
      "2        3             Grumpier Old Men (1995)   \n",
      "3        4            Waiting to Exhale (1995)   \n",
      "4        5  Father of the Bride Part II (1995)   \n",
      "\n",
      "                                        genres  \n",
      "0  Adventure|Animation|Children|Comedy|Fantasy  \n",
      "1                   Adventure|Children|Fantasy  \n",
      "2                               Comedy|Romance  \n",
      "3                         Comedy|Drama|Romance  \n",
      "4                                       Comedy  \n"
     ]
    }
   ],
   "source": [
    "print(ratings.head())\n",
    "print(movies.head())"
   ]
  },
  {
   "cell_type": "code",
   "execution_count": 6,
   "id": "1baa6268-d779-4dcd-86c8-fcfd5495f69e",
   "metadata": {},
   "outputs": [
    {
     "name": "stdout",
     "output_type": "stream",
     "text": [
      "                         genres    rating\n",
      "407        Drama|Mystery|Sci-Fi  5.000000\n",
      "181  Adventure|Animation|Comedy  5.000000\n",
      "211       Adventure|Crime|Drama  5.000000\n",
      "249            Animation|Comedy  5.000000\n",
      "434  Film-Noir|Mystery|Thriller  4.666667\n"
     ]
    }
   ],
   "source": [
    "# Los géneros mejor rankeados en promedio en el año 2005\n",
    "ratings['timestamp'] = pd.to_datetime(ratings['timestamp'], unit='s')\n",
    "ratings_2005 = ratings[ratings['timestamp'].dt.year == 2005]\n",
    "ratings_2005 = ratings_2005.merge(movies, on='movieId')\n",
    "mean_ratings_2005 = ratings_2005.groupby('genres')['rating'].mean().reset_index()\n",
    "mean_ratings_2005 = mean_ratings_2005.sort_values(by='rating', ascending=False)\n",
    "print(mean_ratings_2005.head())"
   ]
  },
  {
   "cell_type": "code",
   "execution_count": 7,
   "id": "0a36a438-0166-415b-b2f0-9f6eccaa7462",
   "metadata": {},
   "outputs": [
    {
     "name": "stdout",
     "output_type": "stream",
     "text": [
      "                                                  title  rating\n",
      "87                 Heidi Fleiss: Hollywood Madam (1995)     5.0\n",
      "6903                               Che: Part Two (2008)     5.0\n",
      "1036  Vampire in Venice (Nosferatu a Venezia) (Nosfe...     5.0\n",
      "7583                           Idiots and Angels (2008)     5.0\n",
      "7582               Louis Theroux: Law & Disorder (2008)     5.0\n"
     ]
    }
   ],
   "source": [
    "# Cuál es el top 5 de películas mejor rankeadas en promedio?\n",
    "ratings_mean = ratings.groupby('movieId')['rating'].mean().reset_index()\n",
    "ratings_mean = ratings_mean.merge(movies, on='movieId')\n",
    "top_5_movies = ratings_mean.sort_values(by='rating', ascending=False).head(5)\n",
    "print(top_5_movies[['title', 'rating']])"
   ]
  },
  {
   "cell_type": "code",
   "execution_count": 8,
   "id": "9322901f-d813-433d-a558-fcb066945b96",
   "metadata": {},
   "outputs": [
    {
     "name": "stdout",
     "output_type": "stream",
     "text": [
      "       genre  count\n",
      "8      Drama   4361\n",
      "5     Comedy   3756\n",
      "17  Thriller   1894\n",
      "1     Action   1828\n",
      "15   Romance   1596\n"
     ]
    }
   ],
   "source": [
    "# Cuál es el género con más reviews?\n",
    "genre_counts = movies['genres'].str.get_dummies(sep='|').sum().reset_index()\n",
    "genre_counts.columns = ['genre', 'count']\n",
    "genre_counts = genre_counts.sort_values(by='count', ascending=False)\n",
    "print(genre_counts.head())"
   ]
  },
  {
   "cell_type": "code",
   "execution_count": 9,
   "id": "d83045c1-5ae9-4f78-ac36-4d7c5b1a3957",
   "metadata": {},
   "outputs": [
    {
     "name": "stdout",
     "output_type": "stream",
     "text": [
      "    year                                      genres  rating\n",
      "0   2000              Animation|Comedy|Drama|Fantasy     5.0\n",
      "1   2001                        Action|Drama|Western     5.0\n",
      "2   2002    Action|Adventure|Animation|Horror|Sci-Fi     5.0\n",
      "3   2003    Action|Adventure|Animation|Drama|Fantasy     5.0\n",
      "4   2004   Adventure|Children|Comedy|Fantasy|Musical     5.0\n",
      "5   2005                  Adventure|Animation|Comedy     5.0\n",
      "6   2006                  Action|Romance|War|Western     5.0\n",
      "7   2007  Adventure|Animation|Children|Comedy|Sci-Fi     5.0\n",
      "8   2008  Adventure|Animation|Children|Comedy|Sci-Fi     5.0\n",
      "9   2009   Action|Adventure|Mystery|Romance|Thriller     5.0\n",
      "10  2010                       Action|Comedy|Musical     5.0\n"
     ]
    }
   ],
   "source": [
    "# Cuáles es el género por año con mejor rating entre el año 2000 y 2010?\n",
    "ratings['year'] = ratings['timestamp'].dt.year\n",
    "ratings_2000_2010 = ratings[(ratings['year'] >= 2000) & (ratings['year'] <= 2010)]\n",
    "ratings_2000_2010 = ratings_2000_2010.merge(movies, on='movieId')\n",
    "mean_ratings_2000_2010 = ratings_2000_2010.groupby(['year', 'genres'])['rating'].mean().reset_index()\n",
    "mean_ratings_2000_2010 = mean_ratings_2000_2010.sort_values(by=['year', 'rating'], ascending=[True, False])\n",
    "print(mean_ratings_2000_2010.groupby('year').first().reset_index())"
   ]
  },
  {
   "cell_type": "code",
   "execution_count": 10,
   "id": "14c34686-0fb9-4f55-b049-0befd2ffb083",
   "metadata": {},
   "outputs": [
    {
     "name": "stdout",
     "output_type": "stream",
     "text": [
      "User ID: 414, Review Count: 2698\n",
      "   genre  count\n",
      "8  Drama   1309\n"
     ]
    }
   ],
   "source": [
    "#  Cuál es el usuario con más críticas y cuál es su género favorito?\n",
    "user_review_counts = ratings['userId'].value_counts().reset_index()\n",
    "user_review_counts.columns = ['userId', 'review_count']\n",
    "top_user = user_review_counts.iloc[0]\n",
    "top_user_reviews = ratings[ratings['userId'] == top_user['userId']]\n",
    "top_user_reviews = top_user_reviews.merge(movies, on='movieId')\n",
    "top_user_genres = top_user_reviews['genres'].str.get_dummies(sep='|').sum().reset_index()\n",
    "top_user_genres.columns = ['genre', 'count']\n",
    "top_user_genres = top_user_genres.sort_values(by='count', ascending=False)\n",
    "print(f\"User ID: {top_user['userId']}, Review Count: {top_user['review_count']}\")\n",
    "print(top_user_genres.head(1))"
   ]
  },
  {
   "cell_type": "code",
   "execution_count": null,
   "id": "2ce606c4-2092-4381-982d-94dbc4ede694",
   "metadata": {},
   "outputs": [],
   "source": []
  }
 ],
 "metadata": {
  "kernelspec": {
   "display_name": "Python 3 (ipykernel)",
   "language": "python",
   "name": "python3"
  },
  "language_info": {
   "codemirror_mode": {
    "name": "ipython",
    "version": 3
   },
   "file_extension": ".py",
   "mimetype": "text/x-python",
   "name": "python",
   "nbconvert_exporter": "python",
   "pygments_lexer": "ipython3",
   "version": "3.11.5"
  }
 },
 "nbformat": 4,
 "nbformat_minor": 5
}
